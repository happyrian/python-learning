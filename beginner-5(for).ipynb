{
 "cells": [
  {
   "cell_type": "code",
   "execution_count": 1,
   "metadata": {},
   "outputs": [
    {
     "name": "stdout",
     "output_type": "stream",
     "text": [
      "apple 中的字母有： a\n",
      "apple 中的字母有： p\n",
      "apple 中的字母有： p\n",
      "apple 中的字母有： l\n",
      "apple 中的字母有： e\n"
     ]
    }
   ],
   "source": [
    "for letter in \"apple\":\n",
    "    print \"apple 中的字母有：\",letter"
   ]
  },
  {
   "cell_type": "code",
   "execution_count": 2,
   "metadata": {
    "collapsed": true
   },
   "outputs": [],
   "source": [
    "animals = [\"cat\",\"dog\",\"monkey\"]"
   ]
  },
  {
   "cell_type": "code",
   "execution_count": 3,
   "metadata": {},
   "outputs": [
    {
     "name": "stdout",
     "output_type": "stream",
     "text": [
      "动物有： cat\n",
      "动物有： dog\n",
      "动物有： monkey\n"
     ]
    }
   ],
   "source": [
    "for animal in animals:\n",
    "    print \"动物有：\",animal"
   ]
  },
  {
   "cell_type": "code",
   "execution_count": 4,
   "metadata": {
    "collapsed": true
   },
   "outputs": [],
   "source": [
    "animals = [\"cat\",\"dog\",\"monkey\"]"
   ]
  },
  {
   "cell_type": "code",
   "execution_count": 5,
   "metadata": {},
   "outputs": [
    {
     "name": "stdout",
     "output_type": "stream",
     "text": [
      "动物有： cat\n",
      "动物有： dog\n",
      "动物有： monkey\n"
     ]
    }
   ],
   "source": [
    "for index in range(len(animals)):      #索引迭代，len()返回列表的长度，range()返回一个序列的数\n",
    "    print \"动物有：\",animals[index]"
   ]
  },
  {
   "cell_type": "code",
   "execution_count": null,
   "metadata": {
    "collapsed": true
   },
   "outputs": [],
   "source": []
  }
 ],
 "metadata": {
  "kernelspec": {
   "display_name": "Python 2",
   "language": "python",
   "name": "python2"
  },
  "language_info": {
   "codemirror_mode": {
    "name": "ipython",
    "version": 2
   },
   "file_extension": ".py",
   "mimetype": "text/x-python",
   "name": "python",
   "nbconvert_exporter": "python",
   "pygments_lexer": "ipython2",
   "version": "2.7.14"
  }
 },
 "nbformat": 4,
 "nbformat_minor": 2
}
