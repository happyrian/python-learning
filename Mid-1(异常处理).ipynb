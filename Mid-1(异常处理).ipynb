{
 "cells": [
  {
   "cell_type": "code",
   "execution_count": null,
   "metadata": {},
   "outputs": [
    {
     "name": "stdout",
     "output_type": "stream",
     "text": [
      "输入被除数: \n",
      "输入除数: \n",
      "请勿输入空值或字母\n",
      "\n",
      "输入被除数:3\n",
      "输入除数:0\n",
      "0 不能做除数\n",
      "\n",
      "输入被除数:2\n",
      "输入除数:4\n",
      "运算结果为: 0\n",
      "\n"
     ]
    }
   ],
   "source": [
    "while 1:\n",
    "    try:\n",
    "        num1 = input(\"输入被除数:\")\n",
    "        num2 = input(\"输入除数:\")\n",
    "        result = int(num1) / int(num2)\n",
    "    except ZeroDivisionError:\n",
    "        print (\"0 不能做除数\" + \"\\n\")\n",
    "    except ValueError:\n",
    "        print (\"请勿输入空值或字母\" + \"\\n\")\n",
    "    else:\n",
    "        print (\"运算结果为: %d\" % result + \"\\n\")"
   ]
  },
  {
   "cell_type": "code",
   "execution_count": null,
   "metadata": {},
   "outputs": [],
   "source": [
    "while 1:\n",
    "    try:\n",
    "        num1 = input(\"输入被除数:\")\n",
    "        num2 = input(\"输入除数:\")\n",
    "        result = int(num1) / int(num2)\n",
    "    except BaseException:\n",
    "        print (\"出现异常\" + \"\\n\")\n",
    "    else:\n",
    "        print (\"运算结果为: %d\" % result + \"\\n\")"
   ]
  },
  {
   "cell_type": "code",
   "execution_count": null,
   "metadata": {},
   "outputs": [],
   "source": []
  }
 ],
 "metadata": {
  "kernelspec": {
   "display_name": "Python 3",
   "language": "python",
   "name": "python3"
  },
  "language_info": {
   "codemirror_mode": {
    "name": "ipython",
    "version": 3
   },
   "file_extension": ".py",
   "mimetype": "text/x-python",
   "name": "python",
   "nbconvert_exporter": "python",
   "pygments_lexer": "ipython3",
   "version": "3.6.3"
  }
 },
 "nbformat": 4,
 "nbformat_minor": 2
}
