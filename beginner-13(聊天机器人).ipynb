{
 "cells": [
  {
   "cell_type": "code",
   "execution_count": 2,
   "metadata": {},
   "outputs": [],
   "source": [
    "dict = {\n",
    "    'Hello'     :'Hello',\n",
    "    'Nice to meet you'  :'Nice to meet you,too',\n",
    "    'Which fruit do you like best' :'I like apple very much',\n",
    "    'How old are you' :'20 years old',\n",
    "    'You are handsome' :'Thank you'\n",
    "}"
   ]
  },
  {
   "cell_type": "code",
   "execution_count": 3,
   "metadata": {},
   "outputs": [],
   "source": [
    "#t-train 训练机器人对话;c-chat 同机器人聊天;l-leave 让机器人离开"
   ]
  },
  {
   "cell_type": "code",
   "execution_count": 4,
   "metadata": {},
   "outputs": [],
   "source": [
    "flag = 'c' #让机器人默认是聊天状态"
   ]
  },
  {
   "cell_type": "code",
   "execution_count": 5,
   "metadata": {},
   "outputs": [],
   "source": [
    "work = True #让机器人开默认是工作的"
   ]
  },
  {
   "cell_type": "code",
   "execution_count": 6,
   "metadata": {},
   "outputs": [
    {
     "ename": "SyntaxError",
     "evalue": "Missing parentheses in call to 'print'. Did you mean print('Hi,my name is Pyhton.')? (<ipython-input-6-e701cb5cd851>, line 1)",
     "output_type": "error",
     "traceback": [
      "\u001b[1;36m  File \u001b[1;32m\"<ipython-input-6-e701cb5cd851>\"\u001b[1;36m, line \u001b[1;32m1\u001b[0m\n\u001b[1;33m    print 'Hi,my name is Pyhton.'\u001b[0m\n\u001b[1;37m                                ^\u001b[0m\n\u001b[1;31mSyntaxError\u001b[0m\u001b[1;31m:\u001b[0m Missing parentheses in call to 'print'. Did you mean print('Hi,my name is Pyhton.')?\n"
     ]
    }
   ],
   "source": [
    "print 'Hi,my name is Pyhton.'"
   ]
  },
  {
   "cell_type": "code",
   "execution_count": 7,
   "metadata": {},
   "outputs": [
    {
     "ename": "SyntaxError",
     "evalue": "Missing parentheses in call to 'print'. Did you mean print('Do you want chat with me?')? (<ipython-input-7-d800b0c82e7a>, line 1)",
     "output_type": "error",
     "traceback": [
      "\u001b[1;36m  File \u001b[1;32m\"<ipython-input-7-d800b0c82e7a>\"\u001b[1;36m, line \u001b[1;32m1\u001b[0m\n\u001b[1;33m    print 'Do you want chat with me?'\u001b[0m\n\u001b[1;37m                                    ^\u001b[0m\n\u001b[1;31mSyntaxError\u001b[0m\u001b[1;31m:\u001b[0m Missing parentheses in call to 'print'. Did you mean print('Do you want chat with me?')?\n"
     ]
    }
   ],
   "source": [
    "print 'Do you want chat with me?'"
   ]
  },
  {
   "cell_type": "code",
   "execution_count": null,
   "metadata": {},
   "outputs": [
    {
     "name": "stdout",
     "output_type": "stream",
     "text": [
      "你可以选择跟我聊天（c)还是训练我对话（t),或让我离开（l)?(c/t/l)c\n",
      "你想对我说什么？：2\n",
      "3\n"
     ]
    }
   ],
   "source": [
    "while flag == 'c' or 't':\n",
    "    flag = input(\"你可以选择跟我聊天（c)还是训练我对话（t),或让我离开（l)?(c/t/l)\");\n",
    "    #训练状态时\n",
    "    if flag == \"t\":\n",
    "        question = input(\"请输入问题（key):\")     #获取输入作为key\n",
    "        answer = input(\"请输入回答（value):\")    #获取输入作为value\n",
    "        dict[str(question)] = str(answer)             #像字典中存入键值对\n",
    "        print (\"训练成功\")\n",
    "        print ((\"现在我已经会%d个问题了\") % len(dict))\n",
    "        continue                                     #跳出本次循环\n",
    "    #聊天状态时\n",
    "    elif flag == 'c':\n",
    "        if len(dict) == 0:                           #如果字典是空的\n",
    "            print (\"现在我还不会任何问题，请先训练我！\")\n",
    "            continue;\n",
    "        #获取输入作为要查找的key\n",
    "        chat_word =input(\"你想对我说什么？：\")\n",
    "        #遍历整个字典\n",
    "        for key in sorted(dict.keys()):\n",
    "            if str(chat_word) == key:               #如果有相同的key\n",
    "                work = True                         #设置机器人工作开启\n",
    "                print (dict[key])                    #打印出对应的value\n",
    "                break                              #结束遍历\n",
    "            else:\n",
    "                work = False                        #无相同的key,机器人不工作\n",
    "        if work == False:\n",
    "            print (\"这句话我还不会回答\")              #如果机器人为不工作状态，打印提示信息，并重置工作状态为 True\n",
    "            work = True\n",
    "    elif flag == 'l':\n",
    "        print (\"下次再见\")\n",
    "        break                                      #跳出整个循环\n",
    "    else:\n",
    "        print (\"请输入提示的指令\")                   #其他情况，不输入或输入非法信息时\n",
    "        continue"
   ]
  },
  {
   "cell_type": "code",
   "execution_count": null,
   "metadata": {
    "collapsed": true
   },
   "outputs": [],
   "source": []
  },
  {
   "cell_type": "code",
   "execution_count": null,
   "metadata": {
    "collapsed": true
   },
   "outputs": [],
   "source": []
  },
  {
   "cell_type": "code",
   "execution_count": null,
   "metadata": {
    "collapsed": true
   },
   "outputs": [],
   "source": []
  },
  {
   "cell_type": "code",
   "execution_count": null,
   "metadata": {
    "collapsed": true
   },
   "outputs": [],
   "source": []
  },
  {
   "cell_type": "code",
   "execution_count": null,
   "metadata": {
    "collapsed": true
   },
   "outputs": [],
   "source": []
  },
  {
   "cell_type": "code",
   "execution_count": null,
   "metadata": {
    "collapsed": true
   },
   "outputs": [],
   "source": []
  }
 ],
 "metadata": {
  "kernelspec": {
   "display_name": "Python 3",
   "language": "python",
   "name": "python3"
  },
  "language_info": {
   "codemirror_mode": {
    "name": "ipython",
    "version": 3
   },
   "file_extension": ".py",
   "mimetype": "text/x-python",
   "name": "python",
   "nbconvert_exporter": "python",
   "pygments_lexer": "ipython3",
   "version": "3.6.3"
  }
 },
 "nbformat": 4,
 "nbformat_minor": 2
}
