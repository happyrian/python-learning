{
 "cells": [
  {
   "cell_type": "code",
   "execution_count": 1,
   "metadata": {
    "collapsed": true
   },
   "outputs": [],
   "source": [
    "num = 0"
   ]
  },
  {
   "cell_type": "code",
   "execution_count": 2,
   "metadata": {},
   "outputs": [
    {
     "name": "stdout",
     "output_type": "stream",
     "text": [
      "the num is 0\n",
      "the num is 1\n",
      "the num is 2\n",
      "the num is 3\n",
      "the num is 4\n",
      "the num is 5\n",
      "the num is 6\n",
      "the num is 7\n",
      "the num is 8\n",
      "the num is 9\n"
     ]
    }
   ],
   "source": [
    "while (num < 10):\n",
    "    print \"the num is\",num\n",
    "    num = num + 1"
   ]
  },
  {
   "cell_type": "code",
   "execution_count": 3,
   "metadata": {
    "collapsed": true
   },
   "outputs": [],
   "source": [
    "num = 0"
   ]
  },
  {
   "cell_type": "code",
   "execution_count": 4,
   "metadata": {},
   "outputs": [
    {
     "name": "stdout",
     "output_type": "stream",
     "text": [
      "2\n",
      "4\n",
      "6\n",
      "8\n",
      "10\n",
      "-------------\n"
     ]
    }
   ],
   "source": [
    "while num < 10:\n",
    "    num += 1\n",
    "    if num % 2 >0:       #判断num除以２是否有余数\n",
    "        continue　　　　#奇数时跳过本次循环\n",
    "    print num　　　　　 #输出双数\n",
    "print \"-------------\""
   ]
  },
  {
   "cell_type": "code",
   "execution_count": 5,
   "metadata": {
    "collapsed": true
   },
   "outputs": [],
   "source": [
    "num = 0"
   ]
  },
  {
   "cell_type": "code",
   "execution_count": 6,
   "metadata": {},
   "outputs": [
    {
     "name": "stdout",
     "output_type": "stream",
     "text": [
      "0\n",
      "1\n",
      "2\n",
      "3\n",
      "4\n",
      "5\n"
     ]
    }
   ],
   "source": [
    "while 1:            #循环条件为1必定成立\n",
    "    print num　　　 #输出　0，１，２，３，４，５\n",
    "    num += 1\n",
    "    if num > 5:　　 #当num大于５时跳出循环\n",
    "        break"
   ]
  },
  {
   "cell_type": "code",
   "execution_count": 30,
   "metadata": {
    "collapsed": true
   },
   "outputs": [],
   "source": [
    "import random　　　　　　　　　　　　　　#导入随机数"
   ]
  },
  {
   "cell_type": "code",
   "execution_count": 31,
   "metadata": {
    "collapsed": true
   },
   "outputs": [],
   "source": [
    "answer = int(random.uniform(1,10))　　　 #随机数1到10"
   ]
  },
  {
   "cell_type": "code",
   "execution_count": 32,
   "metadata": {},
   "outputs": [
    {
     "name": "stdout",
     "output_type": "stream",
     "text": [
      "鐚滅寽鏁板瓧6\n"
     ]
    }
   ],
   "source": [
    "number = int(input(\"猜猜数字\"))　　　　　#在输入框中输入数字"
   ]
  },
  {
   "cell_type": "code",
   "execution_count": 33,
   "metadata": {},
   "outputs": [
    {
     "name": "stdout",
     "output_type": "stream",
     "text": [
      "大了\n",
      "鍐嶇寽涓��6\n",
      "大了\n",
      "鍐嶇寽涓��10\n",
      "大了\n",
      "鍐嶇寽涓��4\n",
      "大了\n",
      "鍐嶇寽涓��2\n",
      "小了\n",
      "鍐嶇寽涓��3\n",
      "bingo!\n"
     ]
    }
   ],
   "source": [
    "if number ==answer:\n",
    "    print (\"厉害，第一次就猜对了\")\n",
    "while number != answer:\n",
    "    if number > answer:\n",
    "        print (\"大了\")\n",
    "        number = int(input(\"再猜一次\"))\n",
    "    if number <answer:\n",
    "        print (\"小了\")\n",
    "        number = int(input(\"再猜一次\"))\n",
    "    if number == answer:\n",
    "        print (u\"bingo!\")\n",
    "        break;"
   ]
  },
  {
   "cell_type": "code",
   "execution_count": null,
   "metadata": {
    "collapsed": true
   },
   "outputs": [],
   "source": []
  },
  {
   "cell_type": "code",
   "execution_count": null,
   "metadata": {
    "collapsed": true
   },
   "outputs": [],
   "source": []
  },
  {
   "cell_type": "code",
   "execution_count": null,
   "metadata": {
    "collapsed": true
   },
   "outputs": [],
   "source": []
  }
 ],
 "metadata": {
  "kernelspec": {
   "display_name": "Python 2",
   "language": "python",
   "name": "python2"
  },
  "language_info": {
   "codemirror_mode": {
    "name": "ipython",
    "version": 2
   },
   "file_extension": ".py",
   "mimetype": "text/x-python",
   "name": "python",
   "nbconvert_exporter": "python",
   "pygments_lexer": "ipython2",
   "version": "2.7.14"
  }
 },
 "nbformat": 4,
 "nbformat_minor": 2
}
